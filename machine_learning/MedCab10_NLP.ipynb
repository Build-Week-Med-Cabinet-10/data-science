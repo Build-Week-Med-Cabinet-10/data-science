{
  "nbformat": 4,
  "nbformat_minor": 0,
  "metadata": {
    "colab": {
      "name": "MedCab10-NLP",
      "provenance": [],
      "collapsed_sections": []
    },
    "kernelspec": {
      "name": "python3",
      "display_name": "Python 3"
    }
  },
  "cells": [
    {
      "cell_type": "markdown",
      "metadata": {
        "id": "zNnRu44NQEAq",
        "colab_type": "text"
      },
      "source": [
        "###Imports"
      ]
    },
    {
      "cell_type": "code",
      "metadata": {
        "id": "ppeB3_yq2-2P",
        "colab_type": "code",
        "colab": {}
      },
      "source": [
        "import pandas as pd\n",
        "import numpy as np\n",
        "import os\n",
        "from pathlib import Path\n",
        "\n",
        "import spacy\n",
        "import nltk\n",
        "\n",
        "from sklearn.feature_extraction.text import TfidfVectorizer\n",
        "from sklearn.neighbors import NearestNeighbors\n",
        "\n",
        "import pickle"
      ],
      "execution_count": null,
      "outputs": []
    },
    {
      "cell_type": "markdown",
      "metadata": {
        "id": "30jsYDbyQIrJ",
        "colab_type": "text"
      },
      "source": [
        "### EDA/Cleaning"
      ]
    },
    {
      "cell_type": "code",
      "metadata": {
        "id": "xCfi8Xrq616p",
        "colab_type": "code",
        "colab": {
          "base_uri": "https://localhost:8080/",
          "height": 206
        },
        "outputId": "4c23c565-b5b3-4705-d992-2d8cb613c5d1"
      },
      "source": [
        "url = 'https://raw.githubusercontent.com/Build-Week-Med-Cabinet-10/data-science/master/cannabis.csv'\n",
        "\n",
        "df = pd.read_csv(url)\n",
        "\n",
        "df.head()"
      ],
      "execution_count": null,
      "outputs": [
        {
          "output_type": "execute_result",
          "data": {
            "text/html": [
              "<div>\n",
              "<style scoped>\n",
              "    .dataframe tbody tr th:only-of-type {\n",
              "        vertical-align: middle;\n",
              "    }\n",
              "\n",
              "    .dataframe tbody tr th {\n",
              "        vertical-align: top;\n",
              "    }\n",
              "\n",
              "    .dataframe thead th {\n",
              "        text-align: right;\n",
              "    }\n",
              "</style>\n",
              "<table border=\"1\" class=\"dataframe\">\n",
              "  <thead>\n",
              "    <tr style=\"text-align: right;\">\n",
              "      <th></th>\n",
              "      <th>Strain</th>\n",
              "      <th>Type</th>\n",
              "      <th>Rating</th>\n",
              "      <th>Effects</th>\n",
              "      <th>Flavor</th>\n",
              "      <th>Description</th>\n",
              "    </tr>\n",
              "  </thead>\n",
              "  <tbody>\n",
              "    <tr>\n",
              "      <th>0</th>\n",
              "      <td>100-Og</td>\n",
              "      <td>hybrid</td>\n",
              "      <td>4.0</td>\n",
              "      <td>Creative,Energetic,Tingly,Euphoric,Relaxed</td>\n",
              "      <td>Earthy,Sweet,Citrus</td>\n",
              "      <td>$100 OG is a 50/50 hybrid strain that packs a ...</td>\n",
              "    </tr>\n",
              "    <tr>\n",
              "      <th>1</th>\n",
              "      <td>98-White-Widow</td>\n",
              "      <td>hybrid</td>\n",
              "      <td>4.7</td>\n",
              "      <td>Relaxed,Aroused,Creative,Happy,Energetic</td>\n",
              "      <td>Flowery,Violet,Diesel</td>\n",
              "      <td>The ‘98 Aloha White Widow is an especially pot...</td>\n",
              "    </tr>\n",
              "    <tr>\n",
              "      <th>2</th>\n",
              "      <td>1024</td>\n",
              "      <td>sativa</td>\n",
              "      <td>4.4</td>\n",
              "      <td>Uplifted,Happy,Relaxed,Energetic,Creative</td>\n",
              "      <td>Spicy/Herbal,Sage,Woody</td>\n",
              "      <td>1024 is a sativa-dominant hybrid bred in Spain...</td>\n",
              "    </tr>\n",
              "    <tr>\n",
              "      <th>3</th>\n",
              "      <td>13-Dawgs</td>\n",
              "      <td>hybrid</td>\n",
              "      <td>4.2</td>\n",
              "      <td>Tingly,Creative,Hungry,Relaxed,Uplifted</td>\n",
              "      <td>Apricot,Citrus,Grapefruit</td>\n",
              "      <td>13 Dawgs is a hybrid of G13 and Chemdawg genet...</td>\n",
              "    </tr>\n",
              "    <tr>\n",
              "      <th>4</th>\n",
              "      <td>24K-Gold</td>\n",
              "      <td>hybrid</td>\n",
              "      <td>4.6</td>\n",
              "      <td>Happy,Relaxed,Euphoric,Uplifted,Talkative</td>\n",
              "      <td>Citrus,Earthy,Orange</td>\n",
              "      <td>Also known as Kosher Tangie, 24k Gold is a 60%...</td>\n",
              "    </tr>\n",
              "  </tbody>\n",
              "</table>\n",
              "</div>"
            ],
            "text/plain": [
              "           Strain  ...                                        Description\n",
              "0          100-Og  ...  $100 OG is a 50/50 hybrid strain that packs a ...\n",
              "1  98-White-Widow  ...  The ‘98 Aloha White Widow is an especially pot...\n",
              "2            1024  ...  1024 is a sativa-dominant hybrid bred in Spain...\n",
              "3        13-Dawgs  ...  13 Dawgs is a hybrid of G13 and Chemdawg genet...\n",
              "4        24K-Gold  ...  Also known as Kosher Tangie, 24k Gold is a 60%...\n",
              "\n",
              "[5 rows x 6 columns]"
            ]
          },
          "metadata": {
            "tags": []
          },
          "execution_count": 2
        }
      ]
    },
    {
      "cell_type": "code",
      "metadata": {
        "id": "KwRsTShKD1Nb",
        "colab_type": "code",
        "colab": {}
      },
      "source": [
        ""
      ],
      "execution_count": null,
      "outputs": []
    },
    {
      "cell_type": "code",
      "metadata": {
        "id": "3IJmIRRU6-k6",
        "colab_type": "code",
        "colab": {
          "base_uri": "https://localhost:8080/",
          "height": 156
        },
        "outputId": "490ef3bc-79b1-4ee0-ef63-c2fab892b01e"
      },
      "source": [
        "df.columns = df.columns.str.lower()\n",
        "\n",
        "print(df.shape)\n",
        "print(df.isna().sum())"
      ],
      "execution_count": null,
      "outputs": [
        {
          "output_type": "stream",
          "text": [
            "(2351, 6)\n",
            "strain          0\n",
            "type            0\n",
            "rating          0\n",
            "effects         0\n",
            "flavor         46\n",
            "description    33\n",
            "dtype: int64\n"
          ],
          "name": "stdout"
        }
      ]
    },
    {
      "cell_type": "code",
      "metadata": {
        "id": "0hgtRyQp7LJ6",
        "colab_type": "code",
        "colab": {
          "base_uri": "https://localhost:8080/",
          "height": 34
        },
        "outputId": "053ae370-d261-42d1-e9a9-8e71ceaeb714"
      },
      "source": [
        "df = df.dropna().reset_index(drop=True)\n",
        "df.shape"
      ],
      "execution_count": null,
      "outputs": [
        {
          "output_type": "execute_result",
          "data": {
            "text/plain": [
              "(2277, 6)"
            ]
          },
          "metadata": {
            "tags": []
          },
          "execution_count": 4
        }
      ]
    },
    {
      "cell_type": "code",
      "metadata": {
        "id": "4vEsPWYP8ORi",
        "colab_type": "code",
        "colab": {
          "base_uri": "https://localhost:8080/",
          "height": 34
        },
        "outputId": "e13a2920-6dbc-4fdd-9b63-4ae34bbdbe73"
      },
      "source": [
        "# Split effects and flavors into additional parameters\n",
        "import itertools\n",
        "\n",
        "def criteria(s):\n",
        "  temp = s.apply(lambda x: x.split(','))\n",
        "  return set(itertools.chain(*temp))\n",
        "\n",
        "effects = criteria(df['effects'])\n",
        "flavors = criteria(df['flavor'])\n",
        "\n",
        "print(f'There are {len(effects)} effects and {len(flavors)} flavors')"
      ],
      "execution_count": null,
      "outputs": [
        {
          "output_type": "stream",
          "text": [
            "There are 16 effects and 50 flavors\n"
          ],
          "name": "stdout"
        }
      ]
    },
    {
      "cell_type": "code",
      "metadata": {
        "id": "WX6OZAWJETs3",
        "colab_type": "code",
        "colab": {
          "base_uri": "https://localhost:8080/",
          "height": 295
        },
        "outputId": "c58f90c4-b48e-49af-a277-77cc163ecb77"
      },
      "source": [
        "effects"
      ],
      "execution_count": null,
      "outputs": [
        {
          "output_type": "execute_result",
          "data": {
            "text/plain": [
              "{'Aroused',\n",
              " 'Creative',\n",
              " 'Dry',\n",
              " 'Energetic',\n",
              " 'Euphoric',\n",
              " 'Focused',\n",
              " 'Giggly',\n",
              " 'Happy',\n",
              " 'Hungry',\n",
              " 'Mouth',\n",
              " 'None',\n",
              " 'Relaxed',\n",
              " 'Sleepy',\n",
              " 'Talkative',\n",
              " 'Tingly',\n",
              " 'Uplifted'}"
            ]
          },
          "metadata": {
            "tags": []
          },
          "execution_count": 6
        }
      ]
    },
    {
      "cell_type": "code",
      "metadata": {
        "id": "qKhF9qjLEscn",
        "colab_type": "code",
        "colab": {
          "base_uri": "https://localhost:8080/",
          "height": 885
        },
        "outputId": "d9fb6626-73b3-4e5c-ca5e-f364860a5f2b"
      },
      "source": [
        "flavors"
      ],
      "execution_count": null,
      "outputs": [
        {
          "output_type": "execute_result",
          "data": {
            "text/plain": [
              "{'Ammonia',\n",
              " 'Apple',\n",
              " 'Apricot',\n",
              " 'Berry',\n",
              " 'Blue',\n",
              " 'Blueberry',\n",
              " 'Butter',\n",
              " 'Cheese',\n",
              " 'Chemical',\n",
              " 'Chestnut',\n",
              " 'Citrus',\n",
              " 'Coffee',\n",
              " 'Diesel',\n",
              " 'Earthy',\n",
              " 'Flowery',\n",
              " 'Fruit',\n",
              " 'Grape',\n",
              " 'Grapefruit',\n",
              " 'Honey',\n",
              " 'Lavender',\n",
              " 'Lemon',\n",
              " 'Lime',\n",
              " 'Mango',\n",
              " 'Menthol',\n",
              " 'Mint',\n",
              " 'Minty',\n",
              " 'None',\n",
              " 'Nutty',\n",
              " 'Orange',\n",
              " 'Peach',\n",
              " 'Pear',\n",
              " 'Pepper',\n",
              " 'Pine',\n",
              " 'Pineapple',\n",
              " 'Plum',\n",
              " 'Pungent',\n",
              " 'Rose',\n",
              " 'Sage',\n",
              " 'Skunk',\n",
              " 'Spicy/Herbal',\n",
              " 'Strawberry',\n",
              " 'Sweet',\n",
              " 'Tar',\n",
              " 'Tea',\n",
              " 'Tobacco',\n",
              " 'Tree',\n",
              " 'Tropical',\n",
              " 'Vanilla',\n",
              " 'Violet',\n",
              " 'Woody'}"
            ]
          },
          "metadata": {
            "tags": []
          },
          "execution_count": 7
        }
      ]
    },
    {
      "cell_type": "code",
      "metadata": {
        "id": "PVzM4obLFAVv",
        "colab_type": "code",
        "colab": {
          "base_uri": "https://localhost:8080/",
          "height": 54
        },
        "outputId": "b2c82057-7107-45b0-c7fa-2bd8c468af5e"
      },
      "source": [
        "# Combine columns to instantiate a corpus\n",
        "\n",
        "doc = df['effects'] + df['flavor'] + df['description']\n",
        "\n",
        "doc[0]"
      ],
      "execution_count": null,
      "outputs": [
        {
          "output_type": "execute_result",
          "data": {
            "text/plain": [
              "'Creative,Energetic,Tingly,Euphoric,RelaxedEarthy,Sweet,Citrus$100 OG is a 50/50 hybrid strain that packs a strong punch. The name supposedly refers to both its strength and high price when it first started showing up in Hollywood. As a plant, $100 OG tends to produce large dark green buds with few stems. Users report a strong body effect of an indica for pain relief with the more alert, cerebral feeling thanks to its sativa side.'"
            ]
          },
          "metadata": {
            "tags": []
          },
          "execution_count": 8
        }
      ]
    },
    {
      "cell_type": "markdown",
      "metadata": {
        "id": "WAFYJZ3fQTB6",
        "colab_type": "text"
      },
      "source": [
        "###NLP"
      ]
    },
    {
      "cell_type": "code",
      "metadata": {
        "id": "iFQgZWfTKJV1",
        "colab_type": "code",
        "colab": {}
      },
      "source": [
        "# Instantiate a Vectorizer\n",
        "nlp = spacy.load(\"en_core_web_lg\")\n",
        "\n",
        "def get_word_vectors(docs):\n",
        "    return [nlp(doc).vector for doc in docs]"
      ],
      "execution_count": null,
      "outputs": []
    },
    {
      "cell_type": "code",
      "metadata": {
        "id": "njRe7_drRmD7",
        "colab_type": "code",
        "colab": {}
      },
      "source": [
        "# Convert to vector matrix\n",
        "X = get_word_vectors(doc)"
      ],
      "execution_count": null,
      "outputs": []
    },
    {
      "cell_type": "code",
      "metadata": {
        "id": "rslB9nyJTYcj",
        "colab_type": "code",
        "colab": {
          "base_uri": "https://localhost:8080/",
          "height": 69
        },
        "outputId": "e3b3b3c8-18d9-482f-c63d-ed34d9417f97"
      },
      "source": [
        "# fit model for quick results\n",
        "nn = NearestNeighbors(n_neighbors=3, algorithm='ball_tree')\n",
        "nn.fit(X)"
      ],
      "execution_count": null,
      "outputs": [
        {
          "output_type": "execute_result",
          "data": {
            "text/plain": [
              "NearestNeighbors(algorithm='ball_tree', leaf_size=30, metric='minkowski',\n",
              "                 metric_params=None, n_jobs=None, n_neighbors=3, p=2,\n",
              "                 radius=1.0)"
            ]
          },
          "metadata": {
            "tags": []
          },
          "execution_count": 16
        }
      ]
    },
    {
      "cell_type": "code",
      "metadata": {
        "id": "hNPXRsuhaBN8",
        "colab_type": "code",
        "colab": {}
      },
      "source": [
        "# test using strings\n",
        "query = nlp('Happy, Citrus')\n",
        "result = nn.kneighbors(query.vector.reshape(1,-1))"
      ],
      "execution_count": null,
      "outputs": []
    },
    {
      "cell_type": "code",
      "metadata": {
        "id": "_h_bjGvlaa_p",
        "colab_type": "code",
        "colab": {
          "base_uri": "https://localhost:8080/",
          "height": 34
        },
        "outputId": "8f47d5e1-cf4b-41e2-ffde-2a53bf777293"
      },
      "source": [
        "result"
      ],
      "execution_count": null,
      "outputs": [
        {
          "output_type": "execute_result",
          "data": {
            "text/plain": [
              "(array([[2.18494946, 2.33560439, 2.35080486]]), array([[1681, 1092,  977]]))"
            ]
          },
          "metadata": {
            "tags": []
          },
          "execution_count": 40
        }
      ]
    },
    {
      "cell_type": "code",
      "metadata": {
        "id": "4czEuMfJa0bN",
        "colab_type": "code",
        "colab": {
          "base_uri": "https://localhost:8080/",
          "height": 143
        },
        "outputId": "b54f5abd-4f95-4621-e2b0-857a4fa7be16"
      },
      "source": [
        "# obtain results by looking up index in dataframe\n",
        "test = df.iloc[list(result[1][0])]\n",
        "test"
      ],
      "execution_count": null,
      "outputs": [
        {
          "output_type": "execute_result",
          "data": {
            "text/html": [
              "<div>\n",
              "<style scoped>\n",
              "    .dataframe tbody tr th:only-of-type {\n",
              "        vertical-align: middle;\n",
              "    }\n",
              "\n",
              "    .dataframe tbody tr th {\n",
              "        vertical-align: top;\n",
              "    }\n",
              "\n",
              "    .dataframe thead th {\n",
              "        text-align: right;\n",
              "    }\n",
              "</style>\n",
              "<table border=\"1\" class=\"dataframe\">\n",
              "  <thead>\n",
              "    <tr style=\"text-align: right;\">\n",
              "      <th></th>\n",
              "      <th>strain</th>\n",
              "      <th>type</th>\n",
              "      <th>rating</th>\n",
              "      <th>effects</th>\n",
              "      <th>flavor</th>\n",
              "      <th>description</th>\n",
              "    </tr>\n",
              "  </thead>\n",
              "  <tbody>\n",
              "    <tr>\n",
              "      <th>1681</th>\n",
              "      <td>Q3</td>\n",
              "      <td>sativa</td>\n",
              "      <td>3.6</td>\n",
              "      <td>Happy,Tingly,Uplifted,Giggly,Energetic</td>\n",
              "      <td>Tree,Fruit,Citrus,Orange</td>\n",
              "      <td>A sativa dominant strain.</td>\n",
              "    </tr>\n",
              "    <tr>\n",
              "      <th>1092</th>\n",
              "      <td>Jamba-Juice</td>\n",
              "      <td>hybrid</td>\n",
              "      <td>5.0</td>\n",
              "      <td>Tingly,Giggly,Happy,Talkative,Energetic</td>\n",
              "      <td>Earthy,Sweet,Berry</td>\n",
              "      <td>Jamba Juice is a unique clone-only offering fr...</td>\n",
              "    </tr>\n",
              "    <tr>\n",
              "      <th>977</th>\n",
              "      <td>Hawaiian-Delight</td>\n",
              "      <td>indica</td>\n",
              "      <td>3.8</td>\n",
              "      <td>Happy,Relaxed,Aroused,Uplifted,Euphoric</td>\n",
              "      <td>Pungent,Sweet,Diesel</td>\n",
              "      <td>Hawaiian Delight has a strong and musky aroma,...</td>\n",
              "    </tr>\n",
              "  </tbody>\n",
              "</table>\n",
              "</div>"
            ],
            "text/plain": [
              "                strain  ...                                        description\n",
              "1681                Q3  ...                          A sativa dominant strain.\n",
              "1092       Jamba-Juice  ...  Jamba Juice is a unique clone-only offering fr...\n",
              "977   Hawaiian-Delight  ...  Hawaiian Delight has a strong and musky aroma,...\n",
              "\n",
              "[3 rows x 6 columns]"
            ]
          },
          "metadata": {
            "tags": []
          },
          "execution_count": 41
        }
      ]
    },
    {
      "cell_type": "code",
      "metadata": {
        "id": "1MDU8Z_JeNgt",
        "colab_type": "code",
        "colab": {
          "base_uri": "https://localhost:8080/",
          "height": 34
        },
        "outputId": "1dc5e517-ab41-44d3-f7f1-2dea27bb6a85"
      },
      "source": [
        "# convert to list to supply to transform into other(json) objects\n",
        "test['strain'].tolist()"
      ],
      "execution_count": null,
      "outputs": [
        {
          "output_type": "execute_result",
          "data": {
            "text/plain": [
              "['Q3', 'Jamba-Juice', 'Hawaiian-Delight']"
            ]
          },
          "metadata": {
            "tags": []
          },
          "execution_count": 43
        }
      ]
    },
    {
      "cell_type": "code",
      "metadata": {
        "id": "W9R5oBbLfFHM",
        "colab_type": "code",
        "colab": {}
      },
      "source": [
        "# Second test using individual vector embeddings\n",
        "happy = nlp('Happy')\n",
        "citrus = nlp('Citrus')"
      ],
      "execution_count": null,
      "outputs": []
    },
    {
      "cell_type": "code",
      "metadata": {
        "id": "PnFvdybbfxvs",
        "colab_type": "code",
        "colab": {}
      },
      "source": [
        "query2 = happy.vector + citrus.vector\n",
        "result2 = nn.kneighbors(hca.reshape(1,-1))"
      ],
      "execution_count": null,
      "outputs": []
    },
    {
      "cell_type": "code",
      "metadata": {
        "id": "-MsW4zPdfza0",
        "colab_type": "code",
        "colab": {
          "base_uri": "https://localhost:8080/",
          "height": 34
        },
        "outputId": "dbcc9f02-caf5-4826-8c44-2fc4b6a00b67"
      },
      "source": [
        "result2"
      ],
      "execution_count": null,
      "outputs": [
        {
          "output_type": "execute_result",
          "data": {
            "text/plain": [
              "(array([[8.0945148 , 8.12922302, 8.16511646]]), array([[ 978, 1557, 1486]]))"
            ]
          },
          "metadata": {
            "tags": []
          },
          "execution_count": 54
        }
      ]
    },
    {
      "cell_type": "code",
      "metadata": {
        "id": "lvJgA0gBgQNM",
        "colab_type": "code",
        "colab": {
          "base_uri": "https://localhost:8080/",
          "height": 178
        },
        "outputId": "68bf1025-64e0-4f25-a9af-53beb6f3e987"
      },
      "source": [
        "# Better results\n",
        "df.iloc[list(result2[1][0])]"
      ],
      "execution_count": null,
      "outputs": [
        {
          "output_type": "execute_result",
          "data": {
            "text/html": [
              "<div>\n",
              "<style scoped>\n",
              "    .dataframe tbody tr th:only-of-type {\n",
              "        vertical-align: middle;\n",
              "    }\n",
              "\n",
              "    .dataframe tbody tr th {\n",
              "        vertical-align: top;\n",
              "    }\n",
              "\n",
              "    .dataframe thead th {\n",
              "        text-align: right;\n",
              "    }\n",
              "</style>\n",
              "<table border=\"1\" class=\"dataframe\">\n",
              "  <thead>\n",
              "    <tr style=\"text-align: right;\">\n",
              "      <th></th>\n",
              "      <th>strain</th>\n",
              "      <th>type</th>\n",
              "      <th>rating</th>\n",
              "      <th>effects</th>\n",
              "      <th>flavor</th>\n",
              "      <th>description</th>\n",
              "    </tr>\n",
              "  </thead>\n",
              "  <tbody>\n",
              "    <tr>\n",
              "      <th>978</th>\n",
              "      <td>Hawaiian-Diesel</td>\n",
              "      <td>sativa</td>\n",
              "      <td>4.2</td>\n",
              "      <td>Uplifted,Creative,Euphoric,Happy,Relaxed</td>\n",
              "      <td>Diesel,Citrus,Tropical</td>\n",
              "      <td>Hawaiian Diesel is the tropical mix of an Aloh...</td>\n",
              "    </tr>\n",
              "    <tr>\n",
              "      <th>1557</th>\n",
              "      <td>Pineapple-Purple-Skunk</td>\n",
              "      <td>hybrid</td>\n",
              "      <td>4.5</td>\n",
              "      <td>Relaxed,Happy,Uplifted,Euphoric,Aroused</td>\n",
              "      <td>Sweet,Citrus,Pineapple</td>\n",
              "      <td>Bred by MTG Seeds, Pineapple Purple Skunk is a...</td>\n",
              "    </tr>\n",
              "    <tr>\n",
              "      <th>1486</th>\n",
              "      <td>Orange-Cookies</td>\n",
              "      <td>hybrid</td>\n",
              "      <td>4.6</td>\n",
              "      <td>Relaxed,Happy,Uplifted,Euphoric,Creative</td>\n",
              "      <td>Citrus,Orange,Sweet</td>\n",
              "      <td>Orange Cookies bred by Franchise Genetics is a...</td>\n",
              "    </tr>\n",
              "  </tbody>\n",
              "</table>\n",
              "</div>"
            ],
            "text/plain": [
              "                      strain  ...                                        description\n",
              "978          Hawaiian-Diesel  ...  Hawaiian Diesel is the tropical mix of an Aloh...\n",
              "1557  Pineapple-Purple-Skunk  ...  Bred by MTG Seeds, Pineapple Purple Skunk is a...\n",
              "1486          Orange-Cookies  ...  Orange Cookies bred by Franchise Genetics is a...\n",
              "\n",
              "[3 rows x 6 columns]"
            ]
          },
          "metadata": {
            "tags": []
          },
          "execution_count": 55
        }
      ]
    },
    {
      "cell_type": "markdown",
      "metadata": {
        "id": "-TAXKQvjhwpp",
        "colab_type": "text"
      },
      "source": [
        "###Pickles!"
      ]
    },
    {
      "cell_type": "code",
      "metadata": {
        "id": "46MTg0mKh0LW",
        "colab_type": "code",
        "colab": {}
      },
      "source": [
        "# Get embeddings for effects and flavors\n",
        "# Circumvents the need to load spacy in api\n",
        "e = {}\n",
        "for effect in effects:\n",
        "  e[effect] = nlp(effect).vector\n",
        "\n",
        "f = {}\n",
        "for flavor in flavors:\n",
        "  f[flavor] = nlp(flavor).vector"
      ],
      "execution_count": null,
      "outputs": []
    },
    {
      "cell_type": "code",
      "metadata": {
        "id": "BD4BirJjiIvX",
        "colab_type": "code",
        "colab": {}
      },
      "source": [
        "# Dump pickles\n",
        "parent_directory = Path().resolve().parent\n",
        "\n",
        "pickle.dump(e, open(os.path.join(parent_directory, 'effects.pkl'), 'wb'))\n",
        "pickle.dump(f, open(os.path.join(parent_directory, 'flavors.pkl'), 'wb'))\n",
        "pickle.dump(nn, open(os.path.join(parent_directory, 'knn.pkl'), 'wb'))\n"
      ],
      "execution_count": 64,
      "outputs": []
    },
    {
      "cell_type": "markdown",
      "metadata": {
        "id": "-F4-ulMbkj-P",
        "colab_type": "text"
      },
      "source": [
        "###Use Case\n"
      ]
    },
    {
      "cell_type": "code",
      "metadata": {
        "id": "HeZZgiBWkq2b",
        "colab_type": "code",
        "colab": {}
      },
      "source": [
        "#1. Web team sends this user query in some format(probably json)\n",
        "from_web = {'effect':'Aroused', 'flavor': 'Sweet'} #json like object \n",
        "#2. Use info to get vectors from pickled dictionaries\n",
        "effect = e['Aroused']\n",
        "flavor = f['Sweet']\n",
        "#3. Generate query vector by adding these vectors\n",
        "query = effect + flavor"
      ],
      "execution_count": 65,
      "outputs": []
    },
    {
      "cell_type": "code",
      "metadata": {
        "id": "-G-OiROJl3wu",
        "colab_type": "code",
        "colab": {}
      },
      "source": [
        "#4. Run knn model using query vector. Needs to be reshaped\n",
        "result = nn.kneighbors(query.reshape(1,-1))"
      ],
      "execution_count": 67,
      "outputs": []
    },
    {
      "cell_type": "code",
      "metadata": {
        "id": "MUrE8maRmEec",
        "colab_type": "code",
        "colab": {
          "base_uri": "https://localhost:8080/",
          "height": 34
        },
        "outputId": "1e2c442e-b8a9-4d88-b527-c294dac761b6"
      },
      "source": [
        "#5. Result object will have the index location of recomendations to lookup in df\n",
        "df.iloc[result[1][0]]['strain'].tolist()"
      ],
      "execution_count": 72,
      "outputs": [
        {
          "output_type": "execute_result",
          "data": {
            "text/plain": [
              "['Hawaiian-Delight', 'Cheese-Candy', 'Sweet-Deep-Grapefruit']"
            ]
          },
          "metadata": {
            "tags": []
          },
          "execution_count": 72
        }
      ]
    }
  ]
}